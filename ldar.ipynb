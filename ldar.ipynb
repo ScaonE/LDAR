{
 "cells": [
  {
   "cell_type": "markdown",
   "metadata": {
    "collapsed": true
   },
   "source": [
    "# LDAR project"
   ]
  },
  {
   "cell_type": "markdown",
   "metadata": {},
   "source": [
    "[G.Form](https://docs.google.com/forms/d/1t4p6s6IyfVewz-zqlr1MhtrFv_S5CCtSJCjQkSXKooA/edit#response=ACYDBNgSm6sVYeVio7GzJOoVWF8su0RUmnbOItvjaguy5gBcV0lI167IvLMMrQ) <br>\n",
    "display < ./Picture/titi.png;"
   ]
  },
  {
   "cell_type": "markdown",
   "metadata": {},
   "source": [
    "## 0) Context"
   ]
  },
  {
   "cell_type": "markdown",
   "metadata": {},
   "source": [
    "Bla"
   ]
  },
  {
   "cell_type": "markdown",
   "metadata": {},
   "source": [
    "## 1) Toto"
   ]
  },
  {
   "cell_type": "markdown",
   "metadata": {},
   "source": [
    "##### Tata"
   ]
  },
  {
   "cell_type": "code",
   "execution_count": null,
   "metadata": {},
   "outputs": [],
   "source": [
    "### CODE ###\n",
    "ls;"
   ]
  }
 ],
 "metadata": {
  "anaconda-cloud": {},
  "kernelspec": {
   "display_name": "Bash",
   "language": "bash",
   "name": "bash"
  },
  "language_info": {
   "codemirror_mode": "shell",
   "file_extension": ".sh",
   "mimetype": "text/x-sh",
   "name": "bash"
  }
 },
 "nbformat": 4,
 "nbformat_minor": 1
}
