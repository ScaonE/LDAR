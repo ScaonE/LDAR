{
 "cells": [
  {
   "cell_type": "markdown",
   "metadata": {
    "collapsed": true
   },
   "source": [
    "# LDAR project"
   ]
  },
  {
   "cell_type": "markdown",
   "metadata": {},
   "source": [
    "##### _Mise en place d’un pipeline d’identification et de caractérisation de souches bactériennes_"
   ]
  },
  {
   "cell_type": "markdown",
   "metadata": {},
   "source": [
    "Liens vers : [Devis](https://drive.google.com/file/d/1ZZq5Ic9rFbs00ZZigDXt6eCyONSvoaaM/view?usp=sharing), [Formulaire](https://docs.google.com/forms/d/1t4p6s6IyfVewz-zqlr1MhtrFv_S5CCtSJCjQkSXKooA/edit#response=ACYDBNgSm6sVYeVio7GzJOoVWF8su0RUmnbOItvjaguy5gBcV0lI167IvLMMrQ)"
   ]
  },
  {
   "cell_type": "markdown",
   "metadata": {},
   "source": [
    "## 0) TODO"
   ]
  },
  {
   "cell_type": "markdown",
   "metadata": {},
   "source": [
    "##### Valentin\n",
    "- Première étape pour définir si échantillon reçu est de type *Salmonella*, *Cronobacter* ou autre <br>\n",
    "- Tests d'appel de SNPs contre une référence proche <br>\n",
    "- Faire un rappel sur les résultats d'assemblage préliminaires avec Mira (j'ai perdu l'info) <br>\n",
    "- Tests SeqSero (version standalone) <br>\n",
    "\n",
    "##### Erwan\n",
    "- Boucler biblio <br>\n",
    "- Boucler l'approche Strainseeker <br>\n",
    "- Génération \"dynamique\" d'arbre phylo pour chaque nouvel échantillon qui sera reçu\n",
    "\n",
    "##### Olivier\n",
    "- Re-confirmer le nom de 2 DBs d'intérêt pour *Salmonella* (notamment celle developpée par des marseillais)"
   ]
  },
  {
   "cell_type": "markdown",
   "metadata": {},
   "source": [
    "## 0) Contexte"
   ]
  },
  {
   "cell_type": "markdown",
   "metadata": {},
   "source": [
    "Dans le cadre de la phase pilote du projet “[LDAR](http://labo.dordogne.fr/)”, 25 souches bactériennes issues d’une\n",
    "souchothèque sont envoyées à Limoges pour séquençage puis analyse bioinformatique. La cellule\n",
    "bioinformatique intervient dans la conception et le déploiement initial d’un pipeline permettant de : <br>\n",
    "1) Classer ces souches par rapport aux bases de données bactériennes existantes. <br>\n",
    "2) Reconstruire leurs génomes de novo. <br>\n",
    "3) Constituer une base de données issue de la souchothèque pour les comparaisons futures. <br>\n",
    "Le travail devra être mené en collaboration avec M. Valentin Tilloy du plateau acides nucléiques, qui,\n",
    "au terme de la phase pilote, sera en charge la partie bioinformatique du projet “LDAR”. <br>\n",
    "Edit) Fournir un rapport d'analyse de caractérisation de l'échantillon pour le LDAR."
   ]
  },
  {
   "cell_type": "markdown",
   "metadata": {},
   "source": [
    "## 0) Recap réunions"
   ]
  },
  {
   "cell_type": "markdown",
   "metadata": {},
   "source": [
    "##### Réunion du 2018/11/05 (vrac pour le moment)"
   ]
  },
  {
   "cell_type": "markdown",
   "metadata": {},
   "source": [
    "Les nouveaux échantillons reçus seront à chaque fois ajoutés à la souchotèque déjà existante.\n",
    "\n",
    "On ne s'occupe pas de différencier ce qui est porté par le génome bactérien et par le plasmide.\n",
    "\n",
    "Olivier confirme que le CGE est plutot admis comme up-to-date par la communauté. D'une manière générale, le CGE c'est bien, mais il nous faudra soit pouvoir trouver leurs outils en versions standalone, soit trouver des équivalents standalone.\n",
    "\n",
    "La figure 1 présentée lors de la réunion (arbre taxo full avec les 600+ souches de Salmonella) n'a pas sa place dans un rapport d'analyse.\n",
    "\n",
    "Les souches réceptionnées du LDAR seront nommées \"LDAR_XXX\" dans nos analyses.\n",
    "\n",
    "Core genome typing (*cf* Snippy notamment) ça plait bien à Olivier (semble être du \"MLST v2\" grâce au NGS). Et dans tous les cas on devrait être en mesure de faire du MLST \"classique\" via data NGS.\n",
    "\n",
    "Olivier reformule question du LDAR : Ils sont déjà capables de dire par typage ~rapide pour leurs échantillons si c'est par exemple du *Salmonella montevideo*. La question qui reste c'est : sont-ce les mêmes *S. montevideo* que ce qui avait été vu auparavent ou de nouvelles souches ? A nous d'être fort et cohérent sur la façon de dire si oui ou non les souches que l'on va recevoir correpondent à des choses déjà présentes dans leur souchotèque ou non, auquel cas il faudra mettre en évidence ce qui fait qu'une souche donnée sera considérée comme nouvelle par rapport à la souchotèque existante."
   ]
  },
  {
   "cell_type": "markdown",
   "metadata": {},
   "source": [
    "## 0) Infos diverses"
   ]
  },
  {
   "cell_type": "markdown",
   "metadata": {},
   "source": [
    "Séquençage sur Ion Proton, couverture visée 100x par souche (ça reste insuffisant a priori pour assemblage (pas de p-e) mais très bien pour par exemple call des SNPs). <br>\n",
    "\n",
    "Côté \"labo humide\", les échantillons reçus du LDAR sont mis en culture (et si pour un même échantillon différentes colonies sont observées en culture, seules celles ayant l'aspect attendu sont conservées <=> vérification de la pureté), puis ensuite spectrometrie de masse (& MLST ?) pour identifier le genre (et p-e jusqu'à l'espèce pour Cronobacter). <br>\n",
    "\n",
    "L'homme reste un hôte plutot \"anormal\" pour les Salmonella. <br>\n",
    "\n",
    "Environ 150 *Salmonella* et 50 *Cronobacter* dans la souchothèque du LDAR."
   ]
  },
  {
   "cell_type": "markdown",
   "metadata": {},
   "source": [
    "##### Classification Salmonella & Chronobacter"
   ]
  },
  {
   "cell_type": "markdown",
   "metadata": {},
   "source": [
    "1- Salmonella (Genre / Espece / Sous-espèce / Serotype-Serovar / Strain-Souche)\n",
    "\n",
    "Dans le lait on va rechercher des Salmonella d’origine animale (bovines principalement) et humaines.\n",
    "\n",
    "Toutes les Salmonella sont d’origine animale sauf Salmonella enterica enterica typhi et paratyphi A, B et C. Elles sont dites typhiques et très étudiées (et séquencées).\n",
    "\n",
    "Classification des Salmonella :\n",
    "\n",
    "-Genre : Salmonella\n",
    "\n",
    "-Espece : enterica ou bongori (très rare : environ 3 souches) ou subterranea (très rare aussi)\n",
    "\n",
    "-Sous-especes (6 pour enterica) : enterica, arizonae, diarizonae, houtenae, indica, salamae\n",
    "\n",
    "-Serotype (ou serovar, on dit les deux) : plus de 2600 pour Salmonella enterica enterica, la plupart des pathogènes sont dedans. Les serotypes des autres sous espèces sont moins décrits et sont retrouvés en lien avec nouveaux animaux de compagnie (reptiles,...)\n",
    "\n",
    "Classiquement on regarde l’antigène O (paroi) et l’antigène H (flagellaire), ainsi on pourra reporter une série de chiffres et lettres (formule antigénique de serovar) : Salmonella enterica enterica 1,4,[5],12:i:-\n",
    "\n",
    "Pour 3 serovars précis (typhi), l’antigène Vi est aussi regardé.\n",
    "\n",
    "Certaines souches ont un nom de serotypes : Salmonella enterica enterica Enteritidis\n",
    "\n",
    "-Enfin il peut y avoir des souches particulières décrites pour un sérotype donné : Salmonella enterica enterica Enteritidis EC20111514 (ou Salmonella enterica subsp. Enterica serovar Enteritidis str EC20111514)\n",
    "\n",
    "Ps : Certaines souches décrites ont un nom de sérovar plutot que la formule. Mais tout les serovars ont une formule antigénique particulière.\n",
    " \n",
    "Les plasmides n’interviennent pas dans la classification.\n",
    "\n",
    "Autres :\n",
    "\n",
    "Beaucoup de souches \"de référence\" donc...\n",
    "\n",
    "Il existe cependant des serovars prédominants :\n",
    "\n",
    "top 20 chez homme (95 % des souches isolées par CNR des Salmonelles) voir ‘img1’\n",
    "\n",
    "top chez animal voir ‘img2’ pour volailles et ‘img3’ pour porcs/bovins (source Anses)\n",
    "\n",
    "2-Cronobacter\n",
    "\n",
    "Cronobacter : plusieurs espèces (16S suffisant pour déterminer genre) MLST\n",
    "\n",
    "C. sakazakii, C. malonaticus, C. turicensis, C. muytjensii, C. dublinensis, C. universalis et C. condimenti"
   ]
  },
  {
   "cell_type": "markdown",
   "metadata": {},
   "source": [
    "## 0) Idées vrac"
   ]
  },
  {
   "cell_type": "markdown",
   "metadata": {},
   "source": [
    "Unitigs better than reads ? <br>\n",
    "\n",
    "Faire apparaitre environnement (lait, volaille, etc...) sur l'arbre phylo ? <br>\n",
    "\n",
    "Faire apparaitre gènes absents/présents chez la souche reçue par rapport au pool global de gènes partagé par l'ensemble des entités de la souchotèque ? <br>\n",
    "\n",
    "Bacterial assembly guided by closest reference (found with StrainSeeker) ? <br>\n",
    "Or StrainSeeker + SNPs calling ? <br>\n",
    "Or StrainSeeker + VarHMM ? <br>\n",
    "Old TTV multi-bacteria DBs could be of use ? <br>\n",
    "Or *de novo* assembly + finishing vs closest ref? <br>\n",
    "\n",
    "Et si jamais on considère qu'il sera difficile d'obtenir un assemblage de qualité : <br>\n",
    "Si Strainseeker est assez robuste, il nous permettra d'indentifier le génome de Salmonella connu le + proche de notre échantillon. Ce genome pourra ensuite être utilisé comme référence par un outil qui indentifie les SNPs et Indels versus notre échantillon. <br>\n",
    "Dans tous les cas, même sans assemblage incroyable, on devrait pouvoir faire : <br>\n",
    "- Serotype <br>\n",
    "- core genome MLST <br>\n",
    "- Prédire la pathogénicité d'une souche <br>\n",
    "- Identifier la présende de gènes de virulence dans un échantillon"
   ]
  },
  {
   "cell_type": "code",
   "execution_count": null,
   "metadata": {
    "collapsed": true
   },
   "outputs": [],
   "source": [
    "### CODE ###\n",
    "ldar='/home/scaonp01/Desktop/LDAR/BISCEm';"
   ]
  },
  {
   "cell_type": "markdown",
   "metadata": {},
   "source": [
    "## 1) Biblio"
   ]
  },
  {
   "cell_type": "markdown",
   "metadata": {},
   "source": [
    "**Background scientifique sur le sujet** <br>\n",
    "[CGE_coursera](https://www.coursera.org/learn/wgs-bacteria) <br>\n",
    "[Schürch _et al._ 2018](https://www.clinicalmicrobiologyandinfection.com/article/S1198-743X(17)30710-3/pdf)\n",
    "\n",
    "**Les principaux outils de \"bacterial comparative genomics\" selon le laboratoire Holt** <br>\n",
    "[Blog](https://holtlab.net/2015/02/25/tools-for-bacterial-comparative-genomics) <br>\n",
    "[Tutorial](https://katholtlab.files.wordpress.com/2017/07/comparativegenomicstutorialv2.pdf)\n",
    "\n",
    "**Outils à tester sur jeux de données Proton fournis par Valentin** <br>\n",
    "1) Input = raw reads (sans assemblage) <br>\n",
    "[StrainSeeker](http://bioinfo.ut.ee/strainseeker/) <br>\n",
    "\"Assignation taxonomique contre une base de données de X génomes définis par l'utilisateur\".\n",
    "\n",
    "2) Input = draft assemblies <br>\n",
    "[Harvest suite](https://genomebiology.biomedcentral.com/track/pdf/10.1186/s13059-014-0524-x) <br>\n",
    "[Utilisation dans un papier récent](https://www.nature.com/articles/s41598-018-29738-3) (Détection des SNPs qui différencient diverses souches de _B. anthracis_ + assignation aux branches taxo). <br>\n",
    "\"The Harvest suite of core-genome alignment and visualization tools for the rapid and simultaneous\n",
    "analysis of thousands of intraspecific microbial strains. The Harvest suite includes Parsnp, a fast core-genome multi-aligner, and Gingr, a dynamic visual platform. Together they provide interactive core-genome alignments, variant calls, recombination detection, and phylogenetic trees. Parsnp is designed for intraspecific alignments and requires input genomes to be highly similar (for example, within the same subspecies group or > =97% average nucleotide identity)\".\n",
    "\n",
    "3) Input = annotated draft assembles\n",
    "[CloVR](https://bmcgenomics.biomedcentral.com/articles/10.1186/s12864-017-3717-3) <br>\n",
    "\"CloVR-Comparative runs reference-free multiple whole-genome alignments to determine unique, shared and core coding sequences (CDSs) and single nucleotide polymorphisms (SNPs). Output includes short summary reports and detailed text-based results files, graphical visualizations (phylogenetic trees, circular figures), and a database file linked to the Sybil comparative genome browser.\" <br>\n",
    "[Proto article Nature](https://www.nature.com/articles/s41426-018-0118-x) <br>\n",
    "\"Genomes of 53 new C. concisus strains were sequenced, assembled, and annotated including 36 strains from gastroenteritis patients, 13 strains from Crohn’s disease patients and four strains from colitis patients (three collagenous colitis and one lymphocytic colitis). When compared with previous published sequences, strains clustered into two main groups/genomospecies (GS) with phylogenetic clustering explained neither by disease phenotype nor sample location\".\n",
    "\n",
    "**Outils les + connus pour du \"multiple genome alignment\"** <br>\n",
    "[Mauve](http://darlinglab.org/mauve/mauve.html) <br>\n",
    "[Mummer](http://mummer.sourceforge.net) <br>\n",
    "\n",
    "**Outils à surveiller** <br>\n",
    "[EDGAR_link1](https://www.sciencedirect.com/science/article/pii/S0168165617315225) <br>\n",
    "[EDGAR_link2](https://edgar.computational.bio.uni-giessen.de/cgi-bin/edgar_login.cgi) <br>\n",
    "\"EDGAR - A software platform for comparative genomics (Possède notamment un projet \"EDGAR_Salmonella\")\".\n",
    "\n",
    "**Si besoin de :** <br>\n",
    "- Mapper les reads sur diverses souches de manière optimisée pour le Torrent : <br>\n",
    "[VarHMM](https://bmcbioinformatics.biomedcentral.com/articles/10.1186/s12859-017-1710-0) <br>\n",
    "- Mise à disposition d'un outil interactif de manipulation des arbres phylo : <br>\n",
    "[iTOL](http://itol.embl.de) <br>\n",
    "- Focus sur la détection de SNPs entre souches : <br>\n",
    "[Snippy](https://github.com/tseemann/snippy) <br>\n",
    "[breseq](http://barricklab.org/twiki/pub/Lab/ToolsBacterialGenomeResequencing/documentation/introduction.html)"
   ]
  },
  {
   "cell_type": "markdown",
   "metadata": {},
   "source": [
    "## Biblio v2"
   ]
  },
  {
   "cell_type": "markdown",
   "metadata": {},
   "source": [
    "Select of representative set of *Salmonella* genomes : [GGRaSP(2018)](https://www.ncbi.nlm.nih.gov/pmc/articles/PMC6129299/pdf/bty300.pdf), [ASM(2018)](https://www.ncbi.nlm.nih.gov/pmc/articles/PMC5773732/pdf/e01472-17.pdf)"
   ]
  },
  {
   "cell_type": "markdown",
   "metadata": {},
   "source": [
    "## 2) Data"
   ]
  },
  {
   "cell_type": "markdown",
   "metadata": {},
   "source": [
    "### 2.1) [Test data](https://ucloud.unilim.fr/ws-bioinfo-biscem/)"
   ]
  },
  {
   "cell_type": "markdown",
   "metadata": {},
   "source": [
    "8 _Salmonella_ samples, sequenced on Ion Proton."
   ]
  },
  {
   "cell_type": "markdown",
   "metadata": {},
   "source": [
    "##### Rename files"
   ]
  },
  {
   "cell_type": "code",
   "execution_count": null,
   "metadata": {
    "collapsed": true
   },
   "outputs": [],
   "source": [
    "### CODE ###\n",
    "cd $ldar/Data/Proton_salmonella_test;\n",
    "mv Ai1-IonXpress_031.R_2014_07_02_16_42_54_user_PRO-25.fastq mid_31.fastq;\n",
    "mv Ai2-IonXpress_032.R_2014_07_02_16_42_54_user_PRO-25.fastq mid_32.fastq;\n",
    "mv Al1-IonXpress_028.R_2014_07_02_16_42_54_user_PRO-25.fastq mid_28.fastq;\n",
    "mv Al2-IonXpress_025.R_2014_07_02_16_42_54_user_PRO-25.fastq mid_25.fastq;\n",
    "mv D-IonXpress_030.R_2014_07_02_16_42_54_user_PRO-25.fastq mid_30.fastq;\n",
    "mv E-IonXpress_027.R_2014_07_02_16_42_54_user_PRO-25.fastq mid_27.fastq;\n",
    "mv LO-IonXpress_029.R_2014_07_02_16_42_54_user_PRO-25.fastq mid_29.fastq;\n",
    "mv Z-IonXpress_026.R_2014_07_02_16_42_54_user_PRO-25.fastq mid_26.fastq;"
   ]
  },
  {
   "cell_type": "markdown",
   "metadata": {},
   "source": [
    "### 2.2) Microorganism DBs"
   ]
  },
  {
   "cell_type": "markdown",
   "metadata": {},
   "source": [
    "#### 2.2.1) Try to retrieve all Salmonella NCBI complete genomes (as of 2018/10/17)"
   ]
  },
  {
   "cell_type": "markdown",
   "metadata": {},
   "source": [
    "_Ps_ : Not so trivial, see this [Biostars post](https://www.biostars.org/p/339030) !"
   ]
  },
  {
   "cell_type": "markdown",
   "metadata": {},
   "source": [
    "##### Get *Salmonella* taxid"
   ]
  },
  {
   "cell_type": "code",
   "execution_count": null,
   "metadata": {
    "collapsed": true
   },
   "outputs": [],
   "source": [
    "### CODE ###\n",
    "taxid=$(esearch -db taxonomy \\\n",
    "                -query 'Salmonella' \\\n",
    "                | efetch -format xml \\\n",
    "                | xtract -pattern Taxon \\\n",
    "                         -element TaxId);"
   ]
  },
  {
   "cell_type": "markdown",
   "metadata": {},
   "source": [
    "##### nucleotide_db DL (432)"
   ]
  },
  {
   "cell_type": "code",
   "execution_count": null,
   "metadata": {
    "collapsed": true
   },
   "outputs": [],
   "source": [
    "### CODE ###\n",
    "# Use taxid to DL associated sequences @NCBI nucleotide DB (with some filters, see below)\n",
    "# Title need to contain \"complete  genome\" or \"complete chromosome\"\n",
    "# Title should not contain \"contig\" or \"plasmid\"\n",
    "# Filter on source = insd to avoid a lot of duplicates\n",
    "# (*e.g.* NZ_XXX & NC_XXX, which are refseq and will be duplicates of corresponding CP_XXX, etc...)\n",
    "esearch -db nucleotide \\\n",
    "        -query \"txid$taxid [Organism] \\\n",
    "                AND (complete genome[Title] OR complete chromosome[Title]) \\\n",
    "                NOT (contig[Title] OR plasmid[Title])\" \\\n",
    "        | efilter -source insd \\\n",
    "        | efetch -format fasta \\\n",
    "        > nucleotide.fasta;"
   ]
  },
  {
   "cell_type": "markdown",
   "metadata": {},
   "source": [
    "##### genome_db DL (235)"
   ]
  },
  {
   "cell_type": "code",
   "execution_count": null,
   "metadata": {
    "collapsed": true
   },
   "outputs": [],
   "source": [
    "### CODE ###\n",
    "# Browse NCBI genome DB : https://www.ncbi.nlm.nih.gov/genome/?term=Salmonella%5BOrganism%5D\n",
    "# Go to \"Genome Assembly and Annotation report\".\n",
    "# In there, all entries with assembly level \"complete\" or \"chromosome\" are of interest\n",
    "# Get associated tables for enterica & bongori (manual retrieval of the 3 files listed below)\n",
    "# genome_bongori_complete.txt, genome_enterica_chromosome.txt & genome_enterica_complete.txt\n",
    "\n",
    "# Create a file with accesions numbers (w-o version) for sequences downloaded previously (nucleotide.fasta)\n",
    "awk -F \" \" '/^>/ {print $1}' nucleotide.fasta \\\n",
    "| awk '{sub(/\\.[0-9]*/, \"\", $1)}1' \\\n",
    "| awk -F \">\" '{print $2}' \\\n",
    "| sort -u \\\n",
    "> nucleotide.list;\n",
    "\n",
    "# Grep vs genome tables to see what we retrieved :\n",
    "for f in genome_*;\n",
    "do grep -i -o -f nucleotide.list $f \\\n",
    "   | sort -u \\\n",
    "   | wc -l;\n",
    "   grep -i -o -f nucleotide.list $f \\\n",
    "   >> catched.list;\n",
    "done;\n",
    "sort -u -o catched.list catched.list;\n",
    "\n",
    "# Results, respectively vs bongori_complete, enterica_chromosomet & enterica_complete\n",
    "# 4 / 4\n",
    "# 6 / 163\n",
    "# 417 / 496\n",
    "# Sum = 427 (Lack 5 to get to 432)\n",
    "\n",
    "# A) Which sequences contained in nucleotide.fasta are not listed in Salmonella genome DB tables ?\n",
    "comm nucleotide.list catched.list > comm.tsv;\n",
    "printf \"unique to nucleotide :\\t\"; awk -F \"\\t\" '{if($1 != \"\") print $1}' comm.tsv | wc -l;\n",
    "printf \"unique to catched :\\t\"; awk -F \"\\t\" '{if($2 != \"\") print $2}' comm.tsv | wc -l;\n",
    "printf \"common to both :\\t\"; awk -F \"\\t\" '{if($3 != \"\") print $3}' comm.tsv | wc -l\n",
    "\n",
    "# unique to salmo : 5\n",
    "# unique to catched : 0\n",
    "# common to both :  427\n",
    "\n",
    "# Manually check if weird things occurs for those 5 entries @https://www.ncbi.nlm.nih.gov/nuccore\n",
    "# CP012344, CP022963, CP032379, CP032446, CP032622\n",
    "# => OK, nothing weird, they are just not listed @genome DB tables\n",
    "\n",
    "# B) Which sequences did I miss by not using this ressource ?\n",
    "# @genome_enterica_chromosome.txt & @genome_enterica_complete.txt\n",
    "# Create a list of accession of out them\n",
    "# sed -i '/^$/d' to delete empty line (sometimes Accession info is not listed)\n",
    "for f in 'genome_enterica_chromosome.txt' 'genome_enterica_complete.txt';\n",
    "do awk -F \"\\t\" 'NR>1 {print $11}' $f \\\n",
    "   | awk -F \";\" '{print $1}' \\\n",
    "   | awk -F \":\" '{print $2}' \\\n",
    "   | awk -F \"/\" '/\\// {print $2} !/\\// {print $0}' \\\n",
    "   | awk '{sub(/\\.[0-9]*/, \"\", $1)}1' \\\n",
    "   > ${f%.*}.list;\n",
    "   sed -i '/^$/d' ${f%.*}.list;\n",
    "done;\n",
    "\n",
    "# Now create a list of missed one to DL\n",
    "grep -v -f nucleotide.list genome_enterica_complete.list > genome_missed.list;\n",
    "grep -v -f nucleotide.list genome_enterica_chromosome.list >> genome_missed.list;\n",
    "sort -u -o genome_missed.list genome_missed.list;\n",
    "\n",
    "# DL them\n",
    "epost -db nucleotide \\\n",
    "      -input genome_missed.list \\\n",
    "      -format acc \\\n",
    "      | efetch -format fasta \\\n",
    "      > genome.fasta;\n",
    "\n",
    "# QC based on sequence length\n",
    "samtools='/home/erwann/Software/Samtools_1.9/samtools';\n",
    "$samtools faidx genome.fasta;\n",
    "cut -f1-2 genome.fasta.fai | sort -k2,2n | he -5;\n",
    "# CP022017.1  9815\n",
    "# Thus QC did reveal a plasmid, remove it (manual shit for a single entry, sorry about that laziness)\n",
    "\n",
    "rm comm.tsv catched.list genome_*;"
   ]
  },
  {
   "cell_type": "markdown",
   "metadata": {},
   "source": [
    "##### Check no intersect between nucleotide.fasta & genome.fasta before merging them (kind of a double check, but I want to be sure)"
   ]
  },
  {
   "cell_type": "code",
   "execution_count": null,
   "metadata": {
    "collapsed": true
   },
   "outputs": [],
   "source": [
    "### CODE ###\n",
    "# Create a file with accesions numbers for sequences in genome.fasta\n",
    "awk -F \" \" '/^>/ {print $1}' genome.fasta \\\n",
    "| awk '{sub(/\\.[0-9]*/, \"\", $1)}1' \\\n",
    "| awk -F \">\" '{print $2}' \\\n",
    "| sort -u \\\n",
    "> genome.list;\n",
    "\n",
    "comm nucleotide.list genome.list > comm.tsv;\n",
    "printf \"unique to nucleotide :\\t\"; awk -F \"\\t\" '{if($1 != \"\") print $1}' comm.tsv | wc -l;\n",
    "printf \"unique to genome :\\t\"; awk -F \"\\t\" '{if($2 != \"\") print $2}' comm.tsv | wc -l;\n",
    "printf \"common to both :\\t\"; awk -F \"\\t\" '{if($3 != \"\") print $3}' comm.tsv | wc -l\n",
    "unique to nucleotide :  432\n",
    "unique to genome :  235\n",
    "common to both :  0\n",
    "\n",
    "# Thus merge\n",
    "cat nucleotide.fasta genome.fasta > nucleotide_genome.fasta;\n",
    "rm comm.tsv nucleotide.fasta nucleotide.list genome.fasta genome.list;"
   ]
  },
  {
   "cell_type": "markdown",
   "metadata": {},
   "source": [
    "##### nucleotide_db \"chromosome\" DL (5)"
   ]
  },
  {
   "cell_type": "code",
   "execution_count": null,
   "metadata": {
    "collapsed": true
   },
   "outputs": [],
   "source": [
    "### CODE ###\n",
    "# Plz get the list first & remove what we already have\n",
    "esearch -db nucleotide \\\n",
    "        -query \"txid$taxid [Organism] \\\n",
    "                AND chromosome[Title] \\\n",
    "                NOT (contig[Title] OR plasmid[Title] OR partial[Title])\" \\\n",
    "        | efilter -source insd \\\n",
    "        | efetch -format acc \\\n",
    "        > chromosome_acc_ver.list;\n",
    "awk '{sub(/\\.[0-9]*/, \"\", $1)}1' chromosome_acc_ver.list > chromosome_acc.list;\n",
    "sort -u -o chromosome_acc.list chromosome_acc.list;\n",
    "\n",
    "# Create accession list for current FASTA\n",
    "awk -F \" \" '/^>/ {print $1}' nucleotide_genome.fasta \\\n",
    "| awk '{sub(/\\.[0-9]*/, \"\", $1)}1' \\\n",
    "| awk -F \">\" '{print $2}' \\\n",
    "| sort -u \\\n",
    "> nucleotide_genome.list;\n",
    "\n",
    "comm nucleotide_genome.list chromosome_acc.list > comm.tsv;\n",
    "printf \"unique to nucleotide_genome :\\t\"; awk -F \"\\t\" '{if($1 != \"\") print $1}' comm.tsv | wc -l;\n",
    "printf \"unique to chromosome_acc :\\t\"; awk -F \"\\t\" '{if($2 != \"\") print $2}' comm.tsv | wc -l;\n",
    "printf \"common to both :\\t\"; awk -F \"\\t\" '{if($3 != \"\") print $3}' comm.tsv | wc -l\n",
    "unique to nucleotide_genome : 354\n",
    "unique to chromosome_acc :  5\n",
    "common to both :  313\n",
    "\n",
    "# Now create a list of those unique to chromosome_acc (to DL)\n",
    "grep -v -f nucleotide_genome.list chromosome_acc.list > chromosome.list;\n",
    "\n",
    "# DL\n",
    "epost -db nucleotide \\\n",
    "      -input chromosome.list \\\n",
    "      -format acc \\\n",
    "      | efetch -format fasta \\\n",
    "      > chromosome.fasta;"
   ]
  },
  {
   "cell_type": "markdown",
   "metadata": {},
   "source": [
    "##### Merge"
   ]
  },
  {
   "cell_type": "code",
   "execution_count": null,
   "metadata": {
    "collapsed": true
   },
   "outputs": [],
   "source": [
    "### CODE ###\n",
    "# Merge\n",
    "cat nucleotide_genome.fasta chromosome.fasta > nucleotide_genome_chromosome.fasta;\n",
    "rm nucleotide_genome.fasta chromosome.fasta chromosome_acc.list chromosome_acc_ver.list chromosome.list comm.tsv nucleotide_genome.list;"
   ]
  },
  {
   "cell_type": "markdown",
   "metadata": {},
   "source": [
    "##### Check if we missed something by not using an alternative download method based on prokaryotic genome reports file (ala [@genomax Biostars](https://www.biostars.org/p/339030/#339145)). Spoiler : we didn't"
   ]
  },
  {
   "cell_type": "code",
   "execution_count": null,
   "metadata": {
    "collapsed": true
   },
   "outputs": [],
   "source": [
    "### CODE ###\n",
    "axel -q ftp://ftp.ncbi.nlm.nih.gov/genomes/GENOME_REPORTS/prokaryotes.txt;\n",
    "grep -w \"Complete\" prokaryotes.txt \\\n",
    "| grep -w \"Salmonella\" \\\n",
    "|  awk 'BEGIN{FS=\"\\t\"}{print $21}' \\\n",
    "| awk 'BEGIN{OFS=FS=\"/\"}{print \"wget \"$0,$NF\"_genomic.fna.gz\"}' \\\n",
    "| sh;\n",
    "rm prokaryotes.txt;\n",
    "cat *.fna.gz > report_dirty.fasta.gz;\n",
    "unpigz report_dirty.fasta.gz;\n",
    "shopt -s extglob;\n",
    "rm !(report_dirty.fasta);\n",
    "# Discard plasmids\n",
    "grep '^>' report_dirty.fasta | grep -iv 'plasmid' > without_plasmids.txt;\n",
    "awk -F \" \" '{print $1}' without_plasmids.txt | awk -F \">\" '{print $2}' > without_plasmids.list;\n",
    "seqtk subseq report_dirty.fasta without_plasmids.list > report.fasta;\n",
    "rm without_plasmids.* report_dirty.fasta;\n",
    "\n",
    "# Create accession lists\n",
    "for f in 'report.fasta' 'nucleotide_genome_chromosome.fasta';\n",
    "do awk -F \" \" '/^>/ {print $1}' $f \\\n",
    "   | awk '{sub(/\\.[0-9]*/, \"\", $1)}1' \\\n",
    "   | awk -F \">\" '{print $2}' \\\n",
    "   | sort -u \\\n",
    "   > ${f%.*}.list;\n",
    "done;\n",
    "\n",
    "comm nucleotide_genome_chromosome.list report.list > comm.tsv;\n",
    "printf \"unique to nucleotide_genome_chromosome :\\t\"; awk -F \"\\t\" '{if($1 != \"\") print $1}' comm.tsv | wc -l;\n",
    "printf \"unique to report :\\t\"; awk -F \"\\t\" '{if($2 != \"\") print $2}' comm.tsv | wc -l;\n",
    "printf \"common to both :\\t\"; awk -F \"\\t\" '{if($3 != \"\") print $3}' comm.tsv | wc -l\n",
    "unique to nucleotide_genome_chromosome :  172\n",
    "unique to report :  0\n",
    "common to both :  500\n",
    "\n",
    "rm comm.tsv nucleotide_genome_chromosome.list report.list report.fasta;\n",
    "mv nucleotide_genome_chromosome.fasta salmonella_complete_genome_ncbi_dbs.fasta;"
   ]
  },
  {
   "cell_type": "markdown",
   "metadata": {},
   "source": [
    "##### QC on the merge product"
   ]
  },
  {
   "cell_type": "code",
   "execution_count": null,
   "metadata": {
    "collapsed": true
   },
   "outputs": [],
   "source": [
    "### CODE ###\n",
    "# Check for a given FASTA if it contains sequences that are too short or too long to be an actual Salmonella genome :\n",
    "samtools='/home/erwann/Software/Samtools_1.9/samtools';\n",
    "file='report.fasta';\n",
    "$samtools faidx $file;\n",
    "cut -f1-2 $file.fai | sort -k2,2n | he -5;\n",
    "cut -f1-2 $file.fai | sort -k2,2n | ta -5;\n",
    "rm *.fai;\n",
    "\n",
    "# Verbose name QC (to check for dups)\n",
    "# Ps : Do same thing with FASTA to get an input for Mash\n",
    "grep '^>' salmonella_complete_genome_ncbi_dbs.fasta > salmonella_complete_genome_ncbi_dbs.list;\n",
    "sed -i 's/>.*Salmonella/>S./g' salmonella_complete_genome_ncbi_dbs.list;\n",
    "sed -i 's/chromosome,.*//g' salmonella_complete_genome_ncbi_dbs.list;\n",
    "sed -i 's/,.*//g' salmonella_complete_genome_ncbi_dbs.list;\n",
    "sed -i 's/subsp/sub/g' salmonella_complete_genome_ncbi_dbs.list;\n",
    "sed -i 's/strain/str/g' salmonella_complete_genome_ncbi_dbs.list;\n",
    "sed -i 's/serovar/sero/g' salmonella_complete_genome_ncbi_dbs.list;\n",
    "sed -i 's/S\\./S./g' salmonella_complete_genome_ncbi_dbs.list;\n",
    "sed -i 's/ complete genome//g' salmonella_complete_genome_ncbi_dbs.list;\n",
    "sed -i 's/isolate/iso/g' salmonella_complete_genome_ncbi_dbs.list;\n",
    "sed -i 's/ chromosome.*//g' salmonella_complete_genome_ncbi_dbs.list;\n",
    "sed -i 's/plasmid/pla/g' salmonella_complete_genome_ncbi_dbs.list;\n",
    "sed -i 's/ complete sequence//g' salmonella_complete_genome_ncbi_dbs.list;\n",
    "# Replace all '.' and 'space' with '_' because Mash doesn't like them\n",
    "sed -i 's/\\./_/g' salmonella_complete_genome_ncbi_dbs.list;\n",
    "sed -i 's/ /_/g' salmonella_complete_genome_ncbi_dbs.list;\n",
    "sed -i 's/__/_/g' salmonella_complete_genome_ncbi_dbs.list;\n",
    "sed -i 's/_$//g' salmonella_complete_genome_ncbi_dbs.list;\n",
    "sed -i 's/_genome_assembly//g' salmonella_complete_genome_ncbi_dbs.list;\n",
    "sed -i 's/_genome//g' salmonella_complete_genome_ncbi_dbs.list;\n",
    "sed -i '/^$/d' salmonella_complete_genome_ncbi_dbs.list;\n",
    "\n",
    "# Try to spot potential dups :\n",
    "sort salmonella_complete_genome_ncbi_dbs.list | uniq -c | sort -nr | he\n",
    "#      2 >S_enterica_sub_enterica_sero_Typhi_str_Ty21a\n",
    "#      2 >S_enterica_sub_enterica_sero_Typhi_str_OVG_041\n",
    "#      2 >S_enterica_sub_enterica_sero_Typhi_str_ERL024120\n",
    "#      2 >S_enterica_sub_enterica_sero_Typhi_str_1036491\n",
    "#      2 >S_enterica_sub_enterica_sero_Typhimurium_str_D23580\n",
    "#      2 >S_enterica_sub_enterica_sero_Typhi_iso_1554-sc-2165329\n",
    "#      1 >S_enterica_sub_salamae_str_NCTC9930\n",
    "\n",
    "# After manual check, make we want to remove the following :\n",
    "# CP002099.1\n",
    "# LT906560.1\n",
    "# LT905088.1\n",
    "# LT904885.1\n",
    "# FN424405.1\n",
    "# LT905064.1\n",
    "\n",
    "# Create accession.version list for use with seqtk\n",
    "awk -F \" \" '/^>/ {print $1}' salmonella_complete_genome_ncbi_dbs.fasta \\\n",
    "| awk -F \">\" '{print $2}' \\\n",
    "| sort -u \\\n",
    "> salmonella_complete_genome_ncbi_dbs.acc_ver;\n",
    "\n",
    "sed -i '/CP002099.1/d' salmonella_complete_genome_ncbi_dbs.acc_ver;\n",
    "sed -i '/LT906560.1/d' salmonella_complete_genome_ncbi_dbs.acc_ver;\n",
    "sed -i '/LT905088.1/d' salmonella_complete_genome_ncbi_dbs.acc_ver;\n",
    "sed -i '/LT904885.1/d' salmonella_complete_genome_ncbi_dbs.acc_ver;\n",
    "sed -i '/FN424405.1/d' salmonella_complete_genome_ncbi_dbs.acc_ver;\n",
    "sed -i '/LT905064.1/d' salmonella_complete_genome_ncbi_dbs.acc_ver;\n",
    "\n",
    "seqtk subseq salmonella_complete_genome_ncbi_dbs.fasta salmonella_complete_genome_ncbi_dbs.acc_ver \\\n",
    "> salmonella_complete_genome_ncbi_dbs_dedup.fasta;"
   ]
  },
  {
   "cell_type": "markdown",
   "metadata": {},
   "source": [
    "## 3) Softwares tries"
   ]
  },
  {
   "cell_type": "markdown",
   "metadata": {},
   "source": [
    "### 3.1) [StrainSeeker](http://bioinfo.ut.ee/strainseeker)"
   ]
  },
  {
   "cell_type": "markdown",
   "metadata": {},
   "source": [
    "StrainSeeker's strengths <br>\n",
    "Strain-level accuracy (can differentiate between known strains and their close relatives). <br>\n",
    "User-created databases. <br>\n",
    "Fast. <br>\n",
    "StrainSeeker's limitations <br>\n",
    "Custom database quality depends on guide tree. <br>\n",
    "Requires moderate to high coverage (0.1+) to identify strains. <br>\n",
    "Custom database building requires 200+ GB of HDD. <br>\n",
    "Due to the statistical framework of StrainSeeker, it has some limitations. First, it is not able to differentiate between strains that are distinguished by only a few single nucleotide variations and may not be useful in detecting clinically relevant mutations and alleles.\n",
    "\n",
    "Ps : In there proof testing, they assembled bacteria genome for MLST typing. They used Velvet assemblies & kept trying != k or params until all or at least the best set of MLST gene was found in assembled contigs.\n",
    "\n",
    "The longer the k-mer the more specific it is and the number of all k-mers from a sequence increases. The k-mer can not be too long due to read lengths and for the fact that every SNP loses k k-mers from the sample.\n",
    "\n",
    "We defined a clade by the phylogenetic distance—all the strains separated\n",
    "by less than 0.001 nucleotide substitutions per site were considered a clade\n",
    "\n",
    "Multiple alignments for both trees were built in a similar fashion. We extracted all E. coli genomic proteins from the UniProtKB/Swiss-Prot database (accessed 6/10/2016) and used TBLASTN 2.2.30 (Altschul et al., 1997) (match identity \u000190%, match coverage \u000195%) to check which proteins were present in each of the 174 E. coli genomes. The nucleotide sequences of 126 genes shared between all these strains (Table S2) were concatenated and a multiple alignment built with MAFFT v7.305b (parameters—maxiterate 1000) (Katoh et al., 2002). Trees were built with MEGA (Tamura et al., 2013), using neighbor-joining method and 500 bootstrap iterations.\n",
    "\n",
    "The other two guide trees were built using a distance matrix made with an alignment-free, k-mer based method Mash (Ondov et al., 2016) (parameters s = 10,000, k = 21). The first, “Mash-based guide tree,” contained the same 74 E.coli strains as the “gene-based guide tree.” The other, “Large Mash-based guide tree,” contained all 4,324 available bacterial genomes from the NCBI RefSeq database (release 69). Trees were constructed with MEGA6 (Tamura et al., 2013) using the unweighted pair group method with arithmetic mean (UPGMA).\n",
    "\n",
    "StrainSeeker proved to be highly accurate in clade prediction especially with k values ranging from 16 to 20."
   ]
  },
  {
   "cell_type": "markdown",
   "metadata": {},
   "source": [
    "#### 3.1.1) Install"
   ]
  },
  {
   "cell_type": "code",
   "execution_count": null,
   "metadata": {
    "collapsed": true
   },
   "outputs": [],
   "source": [
    "### CODE ###\n",
    "url='http://bioinfo.ut.ee/strainseeker';\n",
    "axel -q $url/downloads/seeker.pl;\n",
    "axel -q $url/downloads/builder.pl;\n",
    "axel -q $url/downloads/ss_helper_scripts.tar.gz;\n",
    "tar -xzvf ss_helper_scripts.tar.gz;\n",
    "# Not mandatory\n",
    "axel -q $url/downloads/ss_db_w16.tar.gz;\n",
    "tar -xzvf ss_db_w16.tar.gz;\n",
    "rm *.tar.gz;\n",
    "# Plz check if ./glistcompare -h display option \"-ss\". Otherwise DL it from github"
   ]
  },
  {
   "cell_type": "markdown",
   "metadata": {
    "collapsed": true
   },
   "source": [
    "#### 3.1.2) Try with _Salmonella_ test data vs StrainSeeker default DB"
   ]
  },
  {
   "cell_type": "code",
   "execution_count": null,
   "metadata": {
    "collapsed": true
   },
   "outputs": [],
   "source": [
    "### CODE ###\n",
    "sseeker='/home/scaonp01/Software/Strainseeker_v1.5';\n",
    "cd $ldar/Data/Proton_salmonella_test;\n",
    "for f in *.fastq;\n",
    "do perl $sseeker/seeker.pl \\\n",
    "   -d $sseeker/DB/ss_db_w16_MLST \\\n",
    "   -i $f \\\n",
    "   -o $ldar/Output/Strainseeker/Test/${f%.*}_sseeker.txt;\n",
    "done;"
   ]
  },
  {
   "cell_type": "markdown",
   "metadata": {},
   "source": [
    "##### Results (same for all 8 samples)"
   ]
  },
  {
   "cell_type": "markdown",
   "metadata": {},
   "source": [
    "100.00000% RELATED <br>\n",
    "Salmonella_enterica_subsp_enterica_serovar_Montevideo_str_507440-20 <br>\n",
    "Salmonella_enterica_subsp_enterica_serovar_Montevideo_str_USDA-ARS-USMARC-1921 <br>\n",
    "Salmonella_enterica_subsp_enterica_serovar_Montevideo_str_USDA-ARS-USMARC-1903"
   ]
  },
  {
   "cell_type": "markdown",
   "metadata": {},
   "source": [
    "#### 3.1.3) Build custom DB"
   ]
  },
  {
   "cell_type": "markdown",
   "metadata": {},
   "source": [
    "Custom DB : To create a database, the user needs to provide a set of high-quality assembled bacterial strain genomes and a guide tree describing the approximate phylogeny of provided strains (Fig. 1). Any Newick-format tree can be used as the guide tree. The database is built according to the guide tree structure, starting from the leaves (individual strains) and moving toward the root."
   ]
  },
  {
   "cell_type": "markdown",
   "metadata": {},
   "source": [
    "##### 3.1.3.1) [Mash](https://mash.readthedocs.io/en/latest/)"
   ]
  },
  {
   "cell_type": "markdown",
   "metadata": {},
   "source": [
    "Potential applications include any problem where an approximate, global distance is acceptable, e.g. to triage and cluster sequence data, assign species labels, build large guide trees, identify mis-tracked samples, and search genomic databases. <br>\n",
    "Mash provides two basic functions for sequence comparisons: sketch and dist. The sketch function converts a sequence or collection of sequences into a MinHash sketch <br>\n",
    "The dist function compares two sketches and returns an estimate of the Jaccard index (i.e. the fraction of shared k-mers), a P value, and the Mash distance, which estimates the rate of sequence mutation under a simple evolutionary model <br>\n",
    "Since Mash relies only on comparing length k substrings, or k-mers, the inputs can be whole genomes, metagenomes, nucleotide sequences, amino acid sequences, or raw sequencing reads. Each input is simply treated as a collection of k-mers taken from some known alphabet, allowing many applications. <br>\n",
    "Once constructed, additional genomes can be added incrementally to the full RefSeq database in just 0.9 CPU s per 5 MB genome (or 4 CPU min for a 3 GB genome).  <br>\n",
    "Importantly, the resulting Mash distances correlate well with ANI (a common measure of genome similarity)\n",
    "With a pre-computed sketch database, Mash is able to rapidly identify isolated genomes from both assemblies and raw sequencing reads !!!!!!!!!!!!!!!!!!!! <br>\n",
    "We have found the parameters k = 21 and s = 1000 give accurate estimates in most cases (including metagenomes), so this is set as the default <br>\n",
    "mash sketch -s 1000 -k 21 -f -o chunk *.fasta (Note: option -f is not required in Mash v1.1.) <br>\n",
    "The resulting, chunked sketch files were combined with the Mash paste function to create a single “refseq.msh” file containing all sketches. <br>\n",
    "Each chunked sketch file was then compared against the combined sketch file, again in parallel, using: <br>\n",
    "mash dist -t refseq.msh chunk.msh <br>\n",
    "This required 6.9 CPU h to create pairwise distance tables for all chunks. The resulting chunk tables were concatenated and formatted to create a PHYLIP formatted distance table. <br>\n",
    "... table output from dist was given to PHYLIP v3.695 [50] neighbor to produce the phylogeny <br>\n",
    "\n",
    "Each dataset listed in Table 3 was compared against the full RefSeq Mash database using the following command for assemblies: <br>\n",
    "mash dist refseq.msh seq.fasta <br>\n",
    "and the following command for raw reads: <br>\n",
    "mash dist -u refseq.msh seq.fasta"
   ]
  },
  {
   "cell_type": "markdown",
   "metadata": {},
   "source": [
    "##### Install"
   ]
  },
  {
   "cell_type": "code",
   "execution_count": null,
   "metadata": {
    "collapsed": true
   },
   "outputs": [],
   "source": [
    "### CODE ###\n",
    "wget -q https://github.com/marbl/Mash/releases/download/v2.0/mash-Linux64-v2.0.tar;\n",
    "tar --warning=no-unknown-keyword -xvf mash-Linux64-v2.0.tar;\n",
    "rm mash-Linux64-v2.0.tar;\n",
    "mv mash-Linux64-v2.0 Mash_v2.0;"
   ]
  },
  {
   "cell_type": "markdown",
   "metadata": {},
   "source": [
    "##### Run"
   ]
  },
  {
   "cell_type": "code",
   "execution_count": null,
   "metadata": {
    "collapsed": true
   },
   "outputs": [],
   "source": [
    "### CODE ###\n",
    "mash='/home/scaonp01/Software/Mash_v2.0/mash';"
   ]
  },
  {
   "cell_type": "code",
   "execution_count": null,
   "metadata": {
    "collapsed": true
   },
   "outputs": [],
   "source": [
    "### CODE ###\n",
    "cd $ldar/Output/Mash;\n",
    "$mash sketch -p 8 \\\n",
    "             -k 21 \\\n",
    "             -s 10000 \\\n",
    "             -i \\\n",
    "             -o mash_sketch_header \\\n",
    "             $ldar/Data/DB/salmo_cgs_header.fasta;\n",
    "$mash sketch -p 8 \\\n",
    "             -k 21 \\\n",
    "             -s 10000 \\\n",
    "             -i \\\n",
    "             -o mash_sketch_sciname \\\n",
    "             $ldar/Data/DB/salmo_cgs_sciname.fasta;\n",
    "$mash dist -p 8 \\\n",
    "           -t \\\n",
    "           -s 10000 \\\n",
    "           -i mash_sketch_header.msh \\\n",
    "           mash_sketch_header.msh \\\n",
    "           > mash_distmatrix_header.tsv;\n",
    "$mash dist -p 8 \\\n",
    "           -t \\\n",
    "           -s 10000 \\\n",
    "           -i mash_sketch_sciname.msh \\\n",
    "           mash_sketch_sciname.msh \\\n",
    "           > mash_distmatrix_sciname.tsv;"
   ]
  },
  {
   "cell_type": "markdown",
   "metadata": {},
   "source": [
    "##### 3.1.3.2) Magic to convert MSH format (Mash) to MEG format (MEGAX)"
   ]
  },
  {
   "cell_type": "code",
   "execution_count": null,
   "metadata": {
    "collapsed": true
   },
   "outputs": [],
   "source": [
    "### CODE ###\n",
    "# R to remove the \"useless\" half of the matrix\n",
    "R;\n",
    "data = read.table('./mash_distmatrix_header.tsv')\n",
    "data[upper.tri(data)] <- NA\n",
    "write.table(data, './mash_distmatrix2_header.tsv', sep='\\t', na=\"\", row.names=FALSE, col.names=FALSE)\n",
    "data = read.table('./mash_distmatrix_sciname.tsv')\n",
    "data[upper.tri(data)] <- NA\n",
    "write.table(data, './mash_distmatrix2_sciname.tsv', sep='\\t', na=\"\", row.names=FALSE, col.names=FALSE)\n",
    "quit()"
   ]
  },
  {
   "cell_type": "code",
   "execution_count": null,
   "metadata": {
    "collapsed": true
   },
   "outputs": [],
   "source": [
    "### :-( ###\n",
    "Load into Gdrive to display full numbers\n",
    "c/x column A to another sheet\n",
    "Replace column A with \"meg_first_column\" content\n",
    "c/c new colA to 2nd sheet\n",
    "c/c 2nd sheet to sublime\n",
    "replace \\t with space#\n",
    "c/c 1rst sheet to sublime\n",
    "replace \\t with space\n",
    "replace spacespace with nothing\n",
    "replace space$ with nothing\n",
    "Add \"meg_head.txt\" on top, then \"meg_first_row\"\n",
    "check spaces between sections & empty lines eof\n",
    "save file.meg"
   ]
  },
  {
   "cell_type": "markdown",
   "metadata": {},
   "source": [
    "##### 3.1.3.3) MEGAX"
   ]
  },
  {
   "cell_type": "code",
   "execution_count": null,
   "metadata": {
    "collapsed": true
   },
   "outputs": [],
   "source": [
    "### CODE ###\n",
    "megax;\n",
    "Phylogeny -> construct UPGMA tree\n",
    "File -> export current tree (Newick with branch len) (mash_tree_blen_shortheader.nwk)"
   ]
  },
  {
   "cell_type": "markdown",
   "metadata": {},
   "source": [
    "##### 3.1.3.4) StrainSeeker builder"
   ]
  },
  {
   "cell_type": "markdown",
   "metadata": {},
   "source": [
    "do != -min"
   ]
  },
  {
   "cell_type": "markdown",
   "metadata": {},
   "source": [
    "#### 3.1.4) Try vs custom DBs"
   ]
  },
  {
   "cell_type": "code",
   "execution_count": null,
   "metadata": {
    "collapsed": true
   },
   "outputs": [],
   "source": []
  },
  {
   "cell_type": "markdown",
   "metadata": {},
   "source": [
    "### 3.2) [CGE](https://cge.cbs.dtu.dk/services/all.php)"
   ]
  },
  {
   "cell_type": "code",
   "execution_count": null,
   "metadata": {
    "collapsed": true
   },
   "outputs": [],
   "source": []
  }
 ],
 "metadata": {
  "anaconda-cloud": {},
  "kernelspec": {
   "display_name": "Bash",
   "language": "bash",
   "name": "bash"
  },
  "language_info": {
   "codemirror_mode": "shell",
   "file_extension": ".sh",
   "mimetype": "text/x-sh",
   "name": "bash"
  }
 },
 "nbformat": 4,
 "nbformat_minor": 1
}
