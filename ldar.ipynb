{
 "cells": [
  {
   "cell_type": "markdown",
   "metadata": {
    "collapsed": true
   },
   "source": [
    "# LDAR project"
   ]
  },
  {
   "cell_type": "markdown",
   "metadata": {},
   "source": [
    "##### _Mise en place d’un pipeline d’identification et de caractérisation de souches bactériennes_"
   ]
  },
  {
   "cell_type": "markdown",
   "metadata": {},
   "source": [
    "[G.Form](https://docs.google.com/forms/d/1t4p6s6IyfVewz-zqlr1MhtrFv_S5CCtSJCjQkSXKooA/edit#response=ACYDBNgSm6sVYeVio7GzJOoVWF8su0RUmnbOItvjaguy5gBcV0lI167IvLMMrQ) <br>\n",
    "[Devis cellule bioinfo](https://drive.google.com/file/d/1ZZq5Ic9rFbs00ZZigDXt6eCyONSvoaaM/view?usp=sharing)"
   ]
  },
  {
   "cell_type": "code",
   "execution_count": null,
   "metadata": {
    "collapsed": true
   },
   "outputs": [],
   "source": [
    "### CODE ###\n",
    "ldar='/home/scaonp01/Desktop/LDAR/BISCEm';"
   ]
  },
  {
   "cell_type": "markdown",
   "metadata": {},
   "source": [
    "## 0) Context"
   ]
  },
  {
   "cell_type": "markdown",
   "metadata": {},
   "source": [
    "Dans le cadre de la phase pilote du projet “[LDAR](http://labo.dordogne.fr/)”, 25 souches bactériennes issues d’une\n",
    "souchothèque sont envoyées à Limoges pour séquençage puis analyse bioinformatique. La cellule\n",
    "bioinformatique intervient dans la conception et le déploiement initial d’un pipeline permettant de : <br>\n",
    "1) Classer ces souches par rapport aux bases de données bactériennes existantes. <br>\n",
    "2) Reconstruire leurs génomes de novo. <br>\n",
    "3) Constituer une base de données issue de la souchothèque pour les comparaisons futures. <br>\n",
    "Le travail devra être mené en collaboration avec M. Valentin Tilloy du plateau acides nucléiques, qui,\n",
    "au terme de la phase pilote, sera en charge la partie bioinformatique du projet “LDAR”."
   ]
  },
  {
   "cell_type": "markdown",
   "metadata": {},
   "source": [
    "## 0.1) Infos diverses"
   ]
  },
  {
   "cell_type": "markdown",
   "metadata": {},
   "source": [
    "Séquençage sur Ion Proton, couverture visée 100x par souche. <br>\n",
    "Pour le projet LDAR, les souches seront passées par spectrometrie de masse et MLST avant NGS ce qui nous donnera une indication sur le genre (Salmonella ou Cronobacter) et sans doute plus loin. <br>"
   ]
  },
  {
   "cell_type": "markdown",
   "metadata": {},
   "source": [
    "#### 0.1.1) Classification Salmonella & Chronobacter"
   ]
  },
  {
   "cell_type": "markdown",
   "metadata": {},
   "source": [
    "1- Salmonella (Genre / Espece / Sous-espèce / Serotype-Serovar / Strain-Souche)\n",
    "\n",
    "Dans le lait on va rechercher des Salmonella d’origine animale (bovines principalement) et humaines.\n",
    "\n",
    "Toutes les Salmonella sont d’origine animale sauf Salmonella enterica enterica typhi et paratyphi A, B et C. Elles sont dites typhiques et très étudiées (et séquencées).\n",
    "\n",
    "Classification des Salmonella :\n",
    "\n",
    "-Genre : Salmonella\n",
    "\n",
    "-Espece : enterica ou bongori (très rare : environ 3 souches) ou subterranea (très rare aussi)\n",
    "\n",
    "-Sous-especes (6 pour enterica) : enterica, arizonae, diarizonae, houtenae, indica, salamae\n",
    "\n",
    "-Serotype (ou serovar, on dit les deux) : plus de 2600 pour Salmonella enterica enterica, la plupart des pathogènes sont dedans. Les serotypes des autres sous espèces sont moins décrits et sont retrouvés en lien avec nouveaux animaux de compagnie (reptiles,...)\n",
    "\n",
    "Classiquement on regarde l’antigène O (paroi) et l’antigène H (flagellaire), ainsi on pourra reporter une série de chiffres et lettres (formule antigénique de serovar) : Salmonella enterica enterica 1,4,[5],12:i:-\n",
    "\n",
    "Pour 3 serovars précis (typhi), l’antigène Vi est aussi regardé.\n",
    "\n",
    "Certaines souches ont un nom de serotypes : Salmonella enterica enterica Enteritidis\n",
    "\n",
    "-Enfin il peut y avoir des souches particulières décrites pour un sérotype donné : Salmonella enterica enterica Enteritidis EC20111514 (ou Salmonella enterica subsp. Enterica serovar Enteritidis str EC20111514)\n",
    "\n",
    "Ps : Certaines souches décrites ont un nom de sérovar plutot que la formule. Mais tout les serovars ont une formule antigénique particulière.\n",
    " \n",
    "Les plasmides n’interviennent pas dans la classification.\n",
    "\n",
    "Autres :\n",
    "\n",
    "Beaucoup de souches \"de référence\" donc...\n",
    "\n",
    "Il existe cependant des serovars prédominants :\n",
    "\n",
    "top 20 chez homme (95 % des souches isolées par CNR des Salmonelles) voir ‘img1’\n",
    "\n",
    "top chez animal voir ‘img2’ pour volailles et ‘img3’ pour porcs/bovins (source Anses)\n",
    "\n",
    "2-Cronobacter\n",
    "\n",
    "Cronobacter : plusieurs espèces (16S suffisant pour déterminer genre) MLST\n",
    "\n",
    "C. sakazakii, C. malonaticus, C. turicensis, C. muytjensii, C. dublinensis, C. universalis et C. condimenti"
   ]
  },
  {
   "cell_type": "markdown",
   "metadata": {},
   "source": [
    "## 1) Biblio"
   ]
  },
  {
   "cell_type": "markdown",
   "metadata": {},
   "source": [
    "**Background scientifique sur le sujet** <br>\n",
    "[CGE_coursera](https://www.coursera.org/learn/wgs-bacteria) <br>\n",
    "[Schürch _et al._ 2018](https://www.clinicalmicrobiologyandinfection.com/article/S1198-743X(17)30710-3/pdf)\n",
    "\n",
    "**Les principaux outils de \"bacterial comparative genomics\" selon le laboratoire Holt** <br>\n",
    "[Blog](https://holtlab.net/2015/02/25/tools-for-bacterial-comparative-genomics) <br>\n",
    "[Tutorial](https://katholtlab.files.wordpress.com/2017/07/comparativegenomicstutorialv2.pdf)\n",
    "\n",
    "**Outils à tester sur jeux de données Proton fournis par Valentin** <br>\n",
    "1) Input = raw reads (sans assemblage) <br>\n",
    "[StrainSeeker](http://bioinfo.ut.ee/strainseeker/) <br>\n",
    "\"Assignation taxonomique contre une base de données de X génomes définis par l'utilisateur\".\n",
    "\n",
    "2) Input = draft assemblies <br>\n",
    "[Harvest suite](https://genomebiology.biomedcentral.com/track/pdf/10.1186/s13059-014-0524-x) <br>\n",
    "[Utilisation dans un papier récent](https://www.nature.com/articles/s41598-018-29738-3) (Détection des SNPs qui différencient diverses souches de _B. anthracis_ + assignation aux branches taxo). <br>\n",
    "\"The Harvest suite of core-genome alignment and visualization tools for the rapid and simultaneous\n",
    "analysis of thousands of intraspecific microbial strains. The Harvest suite includes Parsnp, a fast core-genome multi-aligner, and Gingr, a dynamic visual platform. Together they provide interactive core-genome alignments, variant calls, recombination detection, and phylogenetic trees. Parsnp is designed for intraspecific alignments and requires input genomes to be highly similar (for example, within the same subspecies group or > =97% average nucleotide identity)\".\n",
    "\n",
    "3) Input = annotated draft assembles\n",
    "[CloVR](https://bmcgenomics.biomedcentral.com/articles/10.1186/s12864-017-3717-3) <br>\n",
    "\"CloVR-Comparative runs reference-free multiple whole-genome alignments to determine unique, shared and core coding sequences (CDSs) and single nucleotide polymorphisms (SNPs). Output includes short summary reports and detailed text-based results files, graphical visualizations (phylogenetic trees, circular figures), and a database file linked to the Sybil comparative genome browser.\" <br>\n",
    "[Proto article Nature](https://www.nature.com/articles/s41426-018-0118-x) <br>\n",
    "\"Genomes of 53 new C. concisus strains were sequenced, assembled, and annotated including 36 strains from gastroenteritis patients, 13 strains from Crohn’s disease patients and four strains from colitis patients (three collagenous colitis and one lymphocytic colitis). When compared with previous published sequences, strains clustered into two main groups/genomospecies (GS) with phylogenetic clustering explained neither by disease phenotype nor sample location\".\n",
    "\n",
    "**Outils les + connus pour du \"multiple genome alignment\"** <br>\n",
    "[Mauve](http://darlinglab.org/mauve/mauve.html) <br>\n",
    "[Mummer](http://mummer.sourceforge.net) <br>\n",
    "\n",
    "**Outils à surveiller** <br>\n",
    "[EDGAR_link1](https://www.sciencedirect.com/science/article/pii/S0168165617315225) <br>\n",
    "[EDGAR_link2](https://edgar.computational.bio.uni-giessen.de/cgi-bin/edgar_login.cgi) <br>\n",
    "\"EDGAR - A software platform for comparative genomics (Possède notamment un projet \"EDGAR_Salmonella\")\".\n",
    "\n",
    "**Si besoin de :** <br>\n",
    "- Mapper les reads sur diverses souches de manière optimisée pour le Torrent : <br>\n",
    "[VarHMM](https://bmcbioinformatics.biomedcentral.com/articles/10.1186/s12859-017-1710-0) <br>\n",
    "- Mise à disposition d'un outil interactif de manipulation des arbres phylo : <br>\n",
    "[iTOL](http://itol.embl.de) <br>\n",
    "- Focus sur la détection de SNPs entre souches : <br>\n",
    "[Snippy](https://github.com/tseemann/snippy) <br>\n",
    "[breseq](http://barricklab.org/twiki/pub/Lab/ToolsBacterialGenomeResequencing/documentation/introduction.html)"
   ]
  },
  {
   "cell_type": "markdown",
   "metadata": {},
   "source": [
    "## 2) Data"
   ]
  },
  {
   "cell_type": "markdown",
   "metadata": {},
   "source": [
    "### 2.1) [Test data](https://ucloud.unilim.fr/ws-bioinfo-biscem/)"
   ]
  },
  {
   "cell_type": "markdown",
   "metadata": {},
   "source": [
    "8 _Salmonella_ samples, sequenced on Ion Proton."
   ]
  },
  {
   "cell_type": "markdown",
   "metadata": {},
   "source": [
    "##### Rename files"
   ]
  },
  {
   "cell_type": "code",
   "execution_count": null,
   "metadata": {
    "collapsed": true
   },
   "outputs": [],
   "source": [
    "### CODE ###\n",
    "cd $ldar/Data/Proton_salmonella_test;\n",
    "mv Ai1-IonXpress_031.R_2014_07_02_16_42_54_user_PRO-25.fastq mid_31.fastq;\n",
    "mv Ai2-IonXpress_032.R_2014_07_02_16_42_54_user_PRO-25.fastq mid_32.fastq;\n",
    "mv Al1-IonXpress_028.R_2014_07_02_16_42_54_user_PRO-25.fastq mid_28.fastq;\n",
    "mv Al2-IonXpress_025.R_2014_07_02_16_42_54_user_PRO-25.fastq mid_25.fastq;\n",
    "mv D-IonXpress_030.R_2014_07_02_16_42_54_user_PRO-25.fastq mid_30.fastq;\n",
    "mv E-IonXpress_027.R_2014_07_02_16_42_54_user_PRO-25.fastq mid_27.fastq;\n",
    "mv LO-IonXpress_029.R_2014_07_02_16_42_54_user_PRO-25.fastq mid_29.fastq;\n",
    "mv Z-IonXpress_026.R_2014_07_02_16_42_54_user_PRO-25.fastq mid_26.fastq;"
   ]
  },
  {
   "cell_type": "markdown",
   "metadata": {},
   "source": [
    "### 2.2) Microorganism DBs"
   ]
  },
  {
   "cell_type": "markdown",
   "metadata": {},
   "source": [
    "#### 2.2.1) Salmonella NCBI complete genomes"
   ]
  },
  {
   "cell_type": "markdown",
   "metadata": {},
   "source": [
    "_Ps_ : [Caution](https://www.biostars.org/p/339030) !"
   ]
  },
  {
   "cell_type": "code",
   "execution_count": null,
   "metadata": {
    "collapsed": true
   },
   "outputs": [],
   "source": [
    "### CODE ###\n",
    "# 20180921\n",
    "cd $ldar/Data/DB;    \n",
    "esearch -db nucleotide \\\n",
    "        -query \"salmonella[organism] \\\n",
    "                AND complete genome[Title] \\\n",
    "                NOT contig[Title] \\\n",
    "                NOT NZ_CP0:NZ_CP999999999[ACCN] \\\n",
    "                NOT NZ_AP0:NZ_AP999999999[ACCN] \\\n",
    "                NOT NZ_LN0:NZ_LN999999999[ACCN]\" \\\n",
    "        | efetch -format fasta \\\n",
    "        > salmo_cgs.fasta;"
   ]
  },
  {
   "cell_type": "markdown",
   "metadata": {},
   "source": [
    "##### Shorten sequences names to avoid errors with downstream softwares"
   ]
  },
  {
   "cell_type": "code",
   "execution_count": null,
   "metadata": {
    "collapsed": true
   },
   "outputs": [],
   "source": [
    "### CODE ###\n",
    "# Check if we can remove \".1\" from \"NZ_CP023468.1\"\n",
    "cd $ldar/Data/DB;\n",
    "# Check headers in input file & count them\n",
    "grep '^>' salmo_cgs.fasta | he -3;\n",
    "grep -c '^>' salmo_cgs.fasta;\n",
    "# Check what happen if we reduce headers to XXXX.1\n",
    "awk -F \" \" '/^>/ {$0 = $1}1' salmo_cgs.fasta | grep '^>' | he -3;\n",
    "awk -F \" \" '/^>/ {$0 = $1}1' salmo_cgs.fasta | grep '^>' | sort -u | wc -l;\n",
    "# And what if it's reduced to XXXX\n",
    "awk -F \" \" '/^>/ {$0 = $1}1' salmo_cgs.fasta | grep '^>' | awk -F \".\" '{print $1}' | he -3;\n",
    "awk -F \" \" '/^>/ {$0 = $1}1' salmo_cgs.fasta | grep '^>' | awk -F \".\" '{print $1}' | sort -u | wc -l;\n",
    "# All good\n",
    "\n",
    "# FASTA with only accession (w-o number)\n",
    "awk -F \" \" '/^>/ {$0 = $1}1' salmo_cgs.fasta | awk -F \".\" '{$0 = $1}1' > salmo_cgs_header.fasta;"
   ]
  },
  {
   "cell_type": "markdown",
   "metadata": {},
   "source": [
    "##### Also produce a fasta with only verbose sequence name for future tree interpretation"
   ]
  },
  {
   "cell_type": "markdown",
   "metadata": {},
   "source": [
    "_Ps_ : <br>\n",
    "827 génomes complets <br>\n",
    "GENRE <br>\n",
    "827 Salmonella <br>\n",
    "ESPECE <br>\n",
    "819 enterica <br>\n",
    "8 bongori <br>\n",
    "SOUS-ESPECE (parmi enterica) <br>\n",
    "Au moins : <br>\n",
    "12 arizonae <br>\n",
    "4 arizonae <br>\n",
    "4 salamae"
   ]
  },
  {
   "cell_type": "code",
   "execution_count": null,
   "metadata": {
    "collapsed": true
   },
   "outputs": [],
   "source": [
    "### CODE ###\n",
    "# FASTA with only sci_name\n",
    "cp salmo_cgs.fasta salmo_cgs_sciname.fasta;\n",
    "sed -i 's/>.*Salmonella/>S./g' salmo_cgs_sciname.fasta;\n",
    "sed -i 's/chromosome,.*//g' salmo_cgs_sciname.fasta;\n",
    "sed -i 's/,.*//g' salmo_cgs_sciname.fasta;\n",
    "sed -i 's/subsp/sub/g' salmo_cgs_sciname.fasta;\n",
    "sed -i 's/strain/str/g' salmo_cgs_sciname.fasta;\n",
    "sed -i 's/serovar/sero/g' salmo_cgs_sciname.fasta;\n",
    "sed -i 's/S\\./S./g' salmo_cgs_sciname.fasta;\n",
    "sed -i 's/ complete genome//g' salmo_cgs_sciname.fasta;\n",
    "sed -i 's/isolate/iso/g' salmo_cgs_sciname.fasta;\n",
    "sed -i 's/ chromosome.*//g' salmo_cgs_sciname.fasta;\n",
    "sed -i 's/plasmid/pla/g' salmo_cgs_sciname.fasta;\n",
    "sed -i 's/ complete sequence//g' salmo_cgs_sciname.fasta;\n",
    "# Replace all '.' and 'space' with '_' because Mash doesn't like them\n",
    "sed -i 's/\\./_/g' salmo_cgs_sciname.fasta;\n",
    "sed -i 's/ /_/g' salmo_cgs_sciname.fasta;\n",
    "sed -i 's/__/_/g' salmo_cgs_sciname.fasta;"
   ]
  },
  {
   "cell_type": "markdown",
   "metadata": {},
   "source": [
    "## 3) Softwares tries"
   ]
  },
  {
   "cell_type": "markdown",
   "metadata": {},
   "source": [
    "### 3.1) [StrainSeeker](http://bioinfo.ut.ee/strainseeker)"
   ]
  },
  {
   "cell_type": "markdown",
   "metadata": {},
   "source": [
    "StrainSeeker's strengths <br>\n",
    "Strain-level accuracy (can differentiate between known strains and their close relatives). <br>\n",
    "User-created databases. <br>\n",
    "Fast. <br>\n",
    "StrainSeeker's limitations <br>\n",
    "Custom database quality depends on guide tree. <br>\n",
    "Requires moderate to high coverage (0.1+) to identify strains. <br>\n",
    "Custom database building requires 200+ GB of HDD. <br>\n",
    "Due to the statistical framework of StrainSeeker, it has some limitations. First, it is not able to differentiate between strains that are distinguished by only a few single nucleotide variations and may not be useful in detecting clinically relevant mutations and alleles.\n",
    "\n",
    "Ps : In there proof testing, they assembled bacteria genome for MLST typing. They used Velvet assemblies & kept trying != k or params until all or at least the best set of MLST gene was found in assembled contigs.\n",
    "\n",
    "The longer the k-mer the more specific it is and the number of all k-mers from a sequence increases. The k-mer can not be too long due to read lengths and for the fact that every SNP loses k k-mers from the sample.\n",
    "\n",
    "We defined a clade by the phylogenetic distance—all the strains separated\n",
    "by less than 0.001 nucleotide substitutions per site were considered a clade\n",
    "\n",
    "Multiple alignments for both trees were built in a similar fashion. We extracted all E. coli genomic proteins from the UniProtKB/Swiss-Prot database (accessed 6/10/2016) and used TBLASTN 2.2.30 (Altschul et al., 1997) (match identity \u000190%, match coverage \u000195%) to check which proteins were present in each of the 174 E. coli genomes. The nucleotide sequences of 126 genes shared between all these strains (Table S2) were concatenated and a multiple alignment built with MAFFT v7.305b (parameters—maxiterate 1000) (Katoh et al., 2002). Trees were built with MEGA (Tamura et al., 2013), using neighbor-joining method and 500 bootstrap iterations.\n",
    "\n",
    "The other two guide trees were built using a distance matrix made with an alignment-free, k-mer based method Mash (Ondov et al., 2016) (parameters s = 10,000, k = 21). The first, “Mash-based guide tree,” contained the same 74 E.coli strains as the “gene-based guide tree.” The other, “Large Mash-based guide tree,” contained all 4,324 available bacterial genomes from the NCBI RefSeq database (release 69). Trees were constructed with MEGA6 (Tamura et al., 2013) using the unweighted pair group method with arithmetic mean (UPGMA).\n",
    "\n",
    "StrainSeeker proved to be highly accurate in clade prediction especially with k values ranging from 16 to 20."
   ]
  },
  {
   "cell_type": "markdown",
   "metadata": {},
   "source": [
    "#### 3.1.1) Install"
   ]
  },
  {
   "cell_type": "code",
   "execution_count": null,
   "metadata": {
    "collapsed": true
   },
   "outputs": [],
   "source": [
    "### CODE ###\n",
    "url='http://bioinfo.ut.ee/strainseeker';\n",
    "axel -q $url/downloads/seeker.pl;\n",
    "axel -q $url/downloads/builder.pl;\n",
    "axel -q $url/downloads/ss_helper_scripts.tar.gz;\n",
    "tar -xzvf ss_helper_scripts.tar.gz;\n",
    "# Not mandatory\n",
    "axel -q $url/downloads/ss_db_w16.tar.gz;\n",
    "tar -xzvf ss_db_w16.tar.gz;\n",
    "rm *.tar.gz;\n",
    "# Plz check if ./glistcompare -h display option \"-ss\". Otherwise DL it from github"
   ]
  },
  {
   "cell_type": "markdown",
   "metadata": {
    "collapsed": true
   },
   "source": [
    "#### 3.1.2) Try with _Salmonella_ test data vs StrainSeeker default DB"
   ]
  },
  {
   "cell_type": "code",
   "execution_count": null,
   "metadata": {
    "collapsed": true
   },
   "outputs": [],
   "source": [
    "### CODE ###\n",
    "sseeker='/home/scaonp01/Software/Strainseeker_v1.5';\n",
    "cd $ldar/Data/Proton_salmonella_test;\n",
    "for f in *.fastq;\n",
    "do perl $sseeker/seeker.pl \\\n",
    "   -d $sseeker/DB/ss_db_w16_MLST \\\n",
    "   -i $f \\\n",
    "   -o $ldar/Output/Strainseeker/Test/${f%.*}_sseeker.txt;\n",
    "done;"
   ]
  },
  {
   "cell_type": "markdown",
   "metadata": {},
   "source": [
    "##### Results (same for all 8 samples)"
   ]
  },
  {
   "cell_type": "markdown",
   "metadata": {},
   "source": [
    "100.00000% RELATED <br>\n",
    "Salmonella_enterica_subsp_enterica_serovar_Montevideo_str_507440-20 <br>\n",
    "Salmonella_enterica_subsp_enterica_serovar_Montevideo_str_USDA-ARS-USMARC-1921 <br>\n",
    "Salmonella_enterica_subsp_enterica_serovar_Montevideo_str_USDA-ARS-USMARC-1903"
   ]
  },
  {
   "cell_type": "markdown",
   "metadata": {},
   "source": [
    "#### 3.1.3) Build custom DB"
   ]
  },
  {
   "cell_type": "markdown",
   "metadata": {},
   "source": [
    "Custom DB : To create a database, the user needs to provide a set of high-quality assembled bacterial strain genomes and a guide tree describing the approximate phylogeny of provided strains (Fig. 1). Any Newick-format tree can be used as the guide tree. The database is built according to the guide tree structure, starting from the leaves (individual strains) and moving toward the root."
   ]
  },
  {
   "cell_type": "markdown",
   "metadata": {},
   "source": [
    "##### 3.1.3.1) [Mash](https://mash.readthedocs.io/en/latest/)"
   ]
  },
  {
   "cell_type": "markdown",
   "metadata": {},
   "source": [
    "Potential applications include any problem where an approximate, global distance is acceptable, e.g. to triage and cluster sequence data, assign species labels, build large guide trees, identify mis-tracked samples, and search genomic databases. <br>\n",
    "Mash provides two basic functions for sequence comparisons: sketch and dist. The sketch function converts a sequence or collection of sequences into a MinHash sketch <br>\n",
    "The dist function compares two sketches and returns an estimate of the Jaccard index (i.e. the fraction of shared k-mers), a P value, and the Mash distance, which estimates the rate of sequence mutation under a simple evolutionary model <br>\n",
    "Since Mash relies only on comparing length k substrings, or k-mers, the inputs can be whole genomes, metagenomes, nucleotide sequences, amino acid sequences, or raw sequencing reads. Each input is simply treated as a collection of k-mers taken from some known alphabet, allowing many applications. <br>\n",
    "Once constructed, additional genomes can be added incrementally to the full RefSeq database in just 0.9 CPU s per 5 MB genome (or 4 CPU min for a 3 GB genome).  <br>\n",
    "Importantly, the resulting Mash distances correlate well with ANI (a common measure of genome similarity)\n",
    "With a pre-computed sketch database, Mash is able to rapidly identify isolated genomes from both assemblies and raw sequencing reads !!!!!!!!!!!!!!!!!!!! <br>\n",
    "We have found the parameters k = 21 and s = 1000 give accurate estimates in most cases (including metagenomes), so this is set as the default <br>\n",
    "mash sketch -s 1000 -k 21 -f -o chunk *.fasta (Note: option -f is not required in Mash v1.1.) <br>\n",
    "The resulting, chunked sketch files were combined with the Mash paste function to create a single “refseq.msh” file containing all sketches. <br>\n",
    "Each chunked sketch file was then compared against the combined sketch file, again in parallel, using: <br>\n",
    "mash dist -t refseq.msh chunk.msh <br>\n",
    "This required 6.9 CPU h to create pairwise distance tables for all chunks. The resulting chunk tables were concatenated and formatted to create a PHYLIP formatted distance table. <br>\n",
    "... table output from dist was given to PHYLIP v3.695 [50] neighbor to produce the phylogeny <br>\n",
    "\n",
    "Each dataset listed in Table 3 was compared against the full RefSeq Mash database using the following command for assemblies: <br>\n",
    "mash dist refseq.msh seq.fasta <br>\n",
    "and the following command for raw reads: <br>\n",
    "mash dist -u refseq.msh seq.fasta"
   ]
  },
  {
   "cell_type": "markdown",
   "metadata": {},
   "source": [
    "##### Install"
   ]
  },
  {
   "cell_type": "code",
   "execution_count": null,
   "metadata": {
    "collapsed": true
   },
   "outputs": [],
   "source": [
    "### CODE ###\n",
    "wget -q https://github.com/marbl/Mash/releases/download/v2.0/mash-Linux64-v2.0.tar;\n",
    "tar --warning=no-unknown-keyword -xvf mash-Linux64-v2.0.tar;\n",
    "rm mash-Linux64-v2.0.tar;\n",
    "mv mash-Linux64-v2.0 Mash_v2.0;"
   ]
  },
  {
   "cell_type": "markdown",
   "metadata": {},
   "source": [
    "##### Run"
   ]
  },
  {
   "cell_type": "code",
   "execution_count": null,
   "metadata": {
    "collapsed": true
   },
   "outputs": [],
   "source": [
    "### CODE ###\n",
    "mash='/home/scaonp01/Software/Mash_v2.0/mash';"
   ]
  },
  {
   "cell_type": "code",
   "execution_count": null,
   "metadata": {
    "collapsed": true
   },
   "outputs": [],
   "source": [
    "### CODE ###\n",
    "cd $ldar/Output/Mash;\n",
    "$mash sketch -p 8 \\\n",
    "             -k 21 \\\n",
    "             -s 10000 \\\n",
    "             -i \\\n",
    "             -o mash_sketch_header \\\n",
    "             $ldar/Data/DB/salmo_cgs_header.fasta;\n",
    "$mash sketch -p 8 \\\n",
    "             -k 21 \\\n",
    "             -s 10000 \\\n",
    "             -i \\\n",
    "             -o mash_sketch_sciname \\\n",
    "             $ldar/Data/DB/salmo_cgs_sciname.fasta;\n",
    "$mash dist -p 8 \\\n",
    "           -t \\\n",
    "           -s 10000 \\\n",
    "           -i mash_sketch_header.msh \\\n",
    "           mash_sketch_header.msh \\\n",
    "           > mash_distmatrix_header.tsv;\n",
    "$mash dist -p 8 \\\n",
    "           -t \\\n",
    "           -s 10000 \\\n",
    "           -i mash_sketch_sciname.msh \\\n",
    "           mash_sketch_sciname.msh \\\n",
    "           > mash_distmatrix_sciname.tsv;"
   ]
  },
  {
   "cell_type": "markdown",
   "metadata": {},
   "source": [
    "##### 3.1.3.2) Magic to convert MSH format (Mash) to MEG format (MEGAX)"
   ]
  },
  {
   "cell_type": "code",
   "execution_count": null,
   "metadata": {
    "collapsed": true
   },
   "outputs": [],
   "source": [
    "### CODE ###\n",
    "# R to remove the \"useless\" half of the matrix\n",
    "R;\n",
    "data = read.table('./mash_distmatrix_header.tsv')\n",
    "data[upper.tri(data)] <- NA\n",
    "write.table(data, './mash_distmatrix2_header.tsv', sep='\\t', na=\"\", row.names=FALSE, col.names=FALSE)\n",
    "data = read.table('./mash_distmatrix_sciname.tsv')\n",
    "data[upper.tri(data)] <- NA\n",
    "write.table(data, './mash_distmatrix2_sciname.tsv', sep='\\t', na=\"\", row.names=FALSE, col.names=FALSE)\n",
    "quit()"
   ]
  },
  {
   "cell_type": "code",
   "execution_count": null,
   "metadata": {
    "collapsed": true
   },
   "outputs": [],
   "source": [
    "### :-( ###\n",
    "Load into Gdrive to display full numbers\n",
    "c/x column A to another sheet\n",
    "Replace column A with \"meg_first_column\" content\n",
    "c/c new colA to 2nd sheet\n",
    "c/c 2nd sheet to sublime\n",
    "replace \\t with space#\n",
    "c/c 1rst sheet to sublime\n",
    "replace \\t with space\n",
    "replace spacespace with nothing\n",
    "replace space$ with nothing\n",
    "Add \"meg_head.txt\" on top, then \"meg_first_row\"\n",
    "check spaces between sections & empty lines eof\n",
    "save file.meg"
   ]
  },
  {
   "cell_type": "markdown",
   "metadata": {},
   "source": [
    "##### 3.1.3.3) MEGAX"
   ]
  },
  {
   "cell_type": "code",
   "execution_count": null,
   "metadata": {
    "collapsed": true
   },
   "outputs": [],
   "source": [
    "### CODE ###\n",
    "megax;\n",
    "Phylogeny -> construct UPGMA tree\n",
    "File -> export current tree (Newick with branch len) (mash_tree_blen_shortheader.nwk)"
   ]
  },
  {
   "cell_type": "markdown",
   "metadata": {},
   "source": [
    "##### 3.1.3.4) StrainSeeker builder"
   ]
  },
  {
   "cell_type": "markdown",
   "metadata": {},
   "source": [
    "do != -min"
   ]
  },
  {
   "cell_type": "markdown",
   "metadata": {},
   "source": [
    "#### 3.1.4) Try vs custom DBs"
   ]
  },
  {
   "cell_type": "code",
   "execution_count": null,
   "metadata": {
    "collapsed": true
   },
   "outputs": [],
   "source": []
  },
  {
   "cell_type": "markdown",
   "metadata": {},
   "source": [
    "### 3.2) [CGE](https://cge.cbs.dtu.dk/services/all.php)"
   ]
  },
  {
   "cell_type": "code",
   "execution_count": null,
   "metadata": {
    "collapsed": true
   },
   "outputs": [],
   "source": []
  }
 ],
 "metadata": {
  "anaconda-cloud": {},
  "kernelspec": {
   "display_name": "Bash",
   "language": "bash",
   "name": "bash"
  },
  "language_info": {
   "codemirror_mode": "shell",
   "file_extension": ".sh",
   "mimetype": "text/x-sh",
   "name": "bash"
  }
 },
 "nbformat": 4,
 "nbformat_minor": 1
}
