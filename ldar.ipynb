{
 "cells": [
  {
   "cell_type": "markdown",
   "metadata": {
    "collapsed": true
   },
   "source": [
    "# LDAR project"
   ]
  },
  {
   "cell_type": "markdown",
   "metadata": {},
   "source": [
    "##### _Mise en place d’un pipeline d’identification et de caractérisation de souches bactériennes_"
   ]
  },
  {
   "cell_type": "markdown",
   "metadata": {},
   "source": [
    "[G.Form](https://docs.google.com/forms/d/1t4p6s6IyfVewz-zqlr1MhtrFv_S5CCtSJCjQkSXKooA/edit#response=ACYDBNgSm6sVYeVio7GzJOoVWF8su0RUmnbOItvjaguy5gBcV0lI167IvLMMrQ) <br>\n",
    "[Devis cellule bioinfo](https://drive.google.com/file/d/1ZZq5Ic9rFbs00ZZigDXt6eCyONSvoaaM/view?usp=sharing)"
   ]
  },
  {
   "cell_type": "markdown",
   "metadata": {},
   "source": [
    "## 0) Context"
   ]
  },
  {
   "cell_type": "markdown",
   "metadata": {},
   "source": [
    "Dans le cadre de la phase pilote du projet “[LDAR](http://labo.dordogne.fr/)”, 25 souches bactériennes issues d’une\n",
    "souchothèque sont envoyées à Limoges pour séquençage puis analyse bioinformatique. La cellule\n",
    "bioinformatique intervient dans la conception et le déploiement initial d’un pipeline permettant de : <br>\n",
    "1) Classer ces souches par rapport aux bases de données bactériennes existantes. <br>\n",
    "2) Reconstruire leurs génomes de novo. <br>\n",
    "3) Constituer une base de données issue de la souchothèque pour les comparaisons futures. <br>\n",
    "Le travail devra être mené en collaboration avec M. Valentin Tilloy du plateau acides nucléiques, qui,\n",
    "au terme de la phase pilote, sera en charge la partie bioinformatique du projet “LDAR”."
   ]
  },
  {
   "cell_type": "markdown",
   "metadata": {},
   "source": [
    "## 0.1) Infos diverses"
   ]
  },
  {
   "cell_type": "markdown",
   "metadata": {},
   "source": [
    "Séquençage sur Ion Proton, couverture visée 100x par souche. <br>\n",
    "Pour le projet LDAR, les souches seront passées par spectrometrie de masse et MLST avant NGS ce qui nous donnera une indication sur le genre (Salmonella ou Cronobacter) et sans doute plus loin. <br>"
   ]
  },
  {
   "cell_type": "markdown",
   "metadata": {},
   "source": [
    "#### 0.1.1) Classification Salmonella & Chronobacter"
   ]
  },
  {
   "cell_type": "markdown",
   "metadata": {},
   "source": [
    "1- Salmonella (Genre / Espece / Sous-espèce / Serotype-Serovar / Strain-Souche)\n",
    "\n",
    "Dans le lait on va rechercher des Salmonella d’origine animale (bovines principalement) et humaines.\n",
    "\n",
    "Toutes les Salmonella sont d’origine animale sauf Salmonella enterica enterica typhi et paratyphi A, B et C. Elles sont dites typhiques et très étudiées (et séquencées).\n",
    "\n",
    "Classification des Salmonella :\n",
    "\n",
    "-Genre : Salmonella\n",
    "\n",
    "-Espece : enterica ou bongori (très rare : environ 3 souches) ou subterranea (très rare aussi)\n",
    "\n",
    "-Sous-especes (6 pour enterica) : enterica, arizonae, diarizonae, houtenae, indica, salamae\n",
    "\n",
    "-Serotype (ou serovar, on dit les deux) : plus de 2600 pour Salmonella enterica enterica, la plupart des pathogènes sont dedans. Les serotypes des autres sous espèces sont moins décrits et sont retrouvés en lien avec nouveaux animaux de compagnie (reptiles,...)\n",
    "\n",
    "Classiquement on regarde l’antigène O (paroi) et l’antigène H (flagellaire), ainsi on pourra reporter une série de chiffres et lettres (formule antigénique de serovar) : Salmonella enterica enterica 1,4,[5],12:i:-\n",
    "\n",
    "Pour 3 serovars précis (typhi), l’antigène Vi est aussi regardé.\n",
    "\n",
    "Certaines souches ont un nom de serotypes : Salmonella enterica enterica Enteritidis\n",
    "\n",
    "-Enfin il peut y avoir des souches particulières décrites pour un sérotype donné : Salmonella enterica enterica Enteritidis EC20111514 (ou Salmonella enterica subsp. Enterica serovar Enteritidis str EC20111514)\n",
    "\n",
    "Ps : Certaines souches décrites ont un nom de sérovar plutot que la formule. Mais tout les serovars ont une formule antigénique particulière.\n",
    " \n",
    "Les plasmides n’interviennent pas dans la classification.\n",
    "\n",
    "Autres :\n",
    "\n",
    "Beaucoup de souches \"de référence\" donc...\n",
    "\n",
    "Il existe cependant des serovars prédominants :\n",
    "\n",
    "top 20 chez homme (95 % des souches isolées par CNR des Salmonelles) voir ‘img1’\n",
    "\n",
    "top chez animal voir ‘img2’ pour volailles et ‘img3’ pour porcs/bovins (source Anses)\n",
    "\n",
    "2-Cronobacter\n",
    "\n",
    "Cronobacter : plusieurs espèces (16S suffisant pour déterminer genre) MLST\n",
    "\n",
    "C. sakazakii, C. malonaticus, C. turicensis, C. muytjensii, C. dublinensis, C. universalis et C. condimenti"
   ]
  },
  {
   "cell_type": "markdown",
   "metadata": {},
   "source": [
    "## 1) Biblio"
   ]
  },
  {
   "cell_type": "markdown",
   "metadata": {},
   "source": [
    "**Background scientifique sur le sujet** <br>\n",
    "[CGE_coursera](https://www.coursera.org/learn/wgs-bacteria) <br>\n",
    "[Schürch _et al._ 2018](https://www.clinicalmicrobiologyandinfection.com/article/S1198-743X(17)30710-3/pdf)\n",
    "\n",
    "**Les principaux outils de \"bacterial comparative genomics\" selon le laboratoire Holt** <br>\n",
    "[Blog](https://holtlab.net/2015/02/25/tools-for-bacterial-comparative-genomics) <br>\n",
    "[Tutorial](https://katholtlab.files.wordpress.com/2017/07/comparativegenomicstutorialv2.pdf)\n",
    "\n",
    "**Outils à tester sur jeux de données Proton fournis par Valentin** <br>\n",
    "1) Input = raw reads (sans assemblage) <br>\n",
    "[StrainSeeker](http://bioinfo.ut.ee/strainseeker/) <br>\n",
    "\"Assignation taxonomique contre une base de données de X génomes définis par l'utilisateur\".\n",
    "\n",
    "2) Input = draft assemblies <br>\n",
    "[Harvest suite](https://genomebiology.biomedcentral.com/track/pdf/10.1186/s13059-014-0524-x) <br>\n",
    "[Utilisation dans un papier récent](https://www.nature.com/articles/s41598-018-29738-3) (Détection des SNPs qui différencient diverses souches de _B. anthracis_ + assignation aux branches taxo). <br>\n",
    "\"The Harvest suite of core-genome alignment and visualization tools for the rapid and simultaneous\n",
    "analysis of thousands of intraspecific microbial strains. The Harvest suite includes Parsnp, a fast core-genome multi-aligner, and Gingr, a dynamic visual platform. Together they provide interactive core-genome alignments, variant calls, recombination detection, and phylogenetic trees. Parsnp is designed for intraspecific alignments and requires input genomes to be highly similar (for example, within the same subspecies group or > =97% average nucleotide identity)\".\n",
    "\n",
    "3) Input = annotated draft assembles\n",
    "[CloVR](https://bmcgenomics.biomedcentral.com/articles/10.1186/s12864-017-3717-3) <br>\n",
    "\"CloVR-Comparative runs reference-free multiple whole-genome alignments to determine unique, shared and core coding sequences (CDSs) and single nucleotide polymorphisms (SNPs). Output includes short summary reports and detailed text-based results files, graphical visualizations (phylogenetic trees, circular figures), and a database file linked to the Sybil comparative genome browser.\" <br>\n",
    "[Proto article Nature](https://www.nature.com/articles/s41426-018-0118-x) <br>\n",
    "\"Genomes of 53 new C. concisus strains were sequenced, assembled, and annotated including 36 strains from gastroenteritis patients, 13 strains from Crohn’s disease patients and four strains from colitis patients (three collagenous colitis and one lymphocytic colitis). When compared with previous published sequences, strains clustered into two main groups/genomospecies (GS) with phylogenetic clustering explained neither by disease phenotype nor sample location\".\n",
    "\n",
    "**Outils les + connus pour du \"multiple genome alignment\"** <br>\n",
    "[Mauve](http://darlinglab.org/mauve/mauve.html) <br>\n",
    "[Mummer](http://mummer.sourceforge.net) <br>\n",
    "\n",
    "**Outils à surveiller** <br>\n",
    "[EDGAR_link1](https://www.sciencedirect.com/science/article/pii/S0168165617315225) <br>\n",
    "[EDGAR_link2](https://edgar.computational.bio.uni-giessen.de/cgi-bin/edgar_login.cgi) <br>\n",
    "\"EDGAR - A software platform for comparative genomics (Possède notamment un projet \"EDGAR_Salmonella\")\".\n",
    "\n",
    "**Si besoin de :** <br>\n",
    "- Mapper les reads sur diverses souches de manière optimisée pour le Torrent : <br>\n",
    "[VarHMM](https://bmcbioinformatics.biomedcentral.com/articles/10.1186/s12859-017-1710-0) <br>\n",
    "- Mise à disposition d'un outil interactif de manipulation des arbres phylo : <br>\n",
    "[iTOL](http://itol.embl.de) <br>\n",
    "- Focus sur la détection de SNPs entre souches : <br>\n",
    "[Snippy](https://github.com/tseemann/snippy) <br>\n",
    "[breseq](http://barricklab.org/twiki/pub/Lab/ToolsBacterialGenomeResequencing/documentation/introduction.html)"
   ]
  },
  {
   "cell_type": "markdown",
   "metadata": {},
   "source": [
    "## 2) Data"
   ]
  },
  {
   "cell_type": "markdown",
   "metadata": {},
   "source": [
    "### 2.1) Test data"
   ]
  },
  {
   "cell_type": "markdown",
   "metadata": {},
   "source": [
    "### 2.2) Microorganism DBs"
   ]
  },
  {
   "cell_type": "markdown",
   "metadata": {},
   "source": [
    "#### 2.2.1) Salmonella NCBI complete genome"
   ]
  },
  {
   "cell_type": "code",
   "execution_count": null,
   "metadata": {
    "collapsed": true
   },
   "outputs": [],
   "source": [
    "### CODE ###\n",
    "esearch -db nucleotide \\\n",
    "\t\t-query \"salmonella[organism] \\\n",
    "                AND complete genome[Title] \\\n",
    "                NOT draft[Title] \\\n",
    "                NOT contig[Title] \\\n",
    "                NOT scaffold[Title]\" \\\n",
    "\t\t| efetch -format fasta \\\n",
    "\t\t> salmonella_complete_genomes_20180913.fasta;"
   ]
  },
  {
   "cell_type": "markdown",
   "metadata": {},
   "source": [
    "##### Shorten sequences names to avoid errors with downstream softwares"
   ]
  },
  {
   "cell_type": "code",
   "execution_count": null,
   "metadata": {
    "collapsed": true
   },
   "outputs": [],
   "source": [
    "### CODE ###\n",
    "ls;"
   ]
  },
  {
   "cell_type": "markdown",
   "metadata": {},
   "source": [
    "##### Also produce a fasta with only verbose sequence name for future tree interpretation"
   ]
  },
  {
   "cell_type": "markdown",
   "metadata": {},
   "source": [
    "## 3) Softwares tries"
   ]
  },
  {
   "cell_type": "markdown",
   "metadata": {},
   "source": [
    "### 3.1) [StrainSeeker](http://bioinfo.ut.ee/strainseeker)"
   ]
  },
  {
   "cell_type": "markdown",
   "metadata": {},
   "source": [
    "#### 3.1.1) Install"
   ]
  },
  {
   "cell_type": "code",
   "execution_count": null,
   "metadata": {
    "collapsed": true
   },
   "outputs": [],
   "source": [
    "### CODE ###\n",
    "url='http://bioinfo.ut.ee/strainseeker';\n",
    "axel -q $url/downloads/seeker.pl;\n",
    "axel -q $url/downloads/builder.pl;\n",
    "axel -q $url/downloads/ss_helper_scripts.tar.gz;\n",
    "tar -xzvf ss_helper_scripts.tar.gz;\n",
    "# Not mandatory\n",
    "axel -q $url/downloads/ss_db_w16.tar.gz;\n",
    "tar -xzvf ss_db_w16.tar.gz;\n",
    "rm *.tar.gz;"
   ]
  },
  {
   "cell_type": "code",
   "execution_count": null,
   "metadata": {
    "collapsed": true
   },
   "outputs": [],
   "source": []
  },
  {
   "cell_type": "markdown",
   "metadata": {},
   "source": [
    "Custom DB : To create a database, the user needs to provide a set of high-quality assembled bacterial strain genomes and a guide tree describing the approximate phylogeny of provided strains (Fig. 1). Any Newick-format tree can be used as the guide tree. The database is built according to the guide tree structure, starting from the leaves (individual strains) and moving toward the root."
   ]
  },
  {
   "cell_type": "code",
   "execution_count": null,
   "metadata": {
    "collapsed": true
   },
   "outputs": [],
   "source": []
  },
  {
   "cell_type": "markdown",
   "metadata": {},
   "source": [
    "### 3.2) [CGE](https://cge.cbs.dtu.dk/services/all.php)"
   ]
  },
  {
   "cell_type": "code",
   "execution_count": null,
   "metadata": {
    "collapsed": true
   },
   "outputs": [],
   "source": []
  }
 ],
 "metadata": {
  "anaconda-cloud": {},
  "kernelspec": {
   "display_name": "Bash",
   "language": "bash",
   "name": "bash"
  },
  "language_info": {
   "codemirror_mode": "shell",
   "file_extension": ".sh",
   "mimetype": "text/x-sh",
   "name": "bash"
  }
 },
 "nbformat": 4,
 "nbformat_minor": 1
}
